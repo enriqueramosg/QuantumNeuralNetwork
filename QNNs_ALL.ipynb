{
  "nbformat": 4,
  "nbformat_minor": 0,
  "metadata": {
    "colab": {
      "provenance": [],
      "toc_visible": true
    },
    "kernelspec": {
      "name": "python3",
      "display_name": "Python 3"
    },
    "language_info": {
      "name": "python"
    }
  },
  "cells": [
    {
      "cell_type": "markdown",
      "source": [
        "#Instalación e importación\n",
        "Instalamos `Qiskit` y `Qiskit_machine_learning` e importamos todas las librerías que se utilizaran:\n",
        "1. numpy\n",
        "2. pandas\n",
        "3. matplotlib\n",
        "4. IPython\n",
        "5. sklearn\n",
        "6. torch\n",
        "7. google\n",
        "8. qiskit\n",
        "9. qiskit_machine_learning\n",
        "\n"
      ],
      "metadata": {
        "id": "JpMuQGkUPU70"
      }
    },
    {
      "cell_type": "code",
      "source": [
        "!pip -q install qiskit_machine_learning\n",
        "!pip -q install qiskit"
      ],
      "metadata": {
        "id": "QaWTUnOxLm_T"
      },
      "execution_count": 55,
      "outputs": []
    },
    {
      "cell_type": "code",
      "source": [
        "import numpy as np\n",
        "import pandas as pd\n",
        "import matplotlib.pyplot as plt\n",
        "from IPython.display import clear_output\n",
        "from google.colab import files\n",
        "\n",
        "from sklearn.model_selection import train_test_split\n",
        "from sklearn.preprocessing import MinMaxScaler, OneHotEncoder\n",
        "from sklearn.datasets import load_iris\n",
        "\n",
        "from qiskit import QuantumCircuit\n",
        "from qiskit.circuit import ParameterVector, Parameter\n",
        "from qiskit.circuit.library import RealAmplitudes, ZZFeatureMap\n",
        "from qiskit_algorithms.optimizers import COBYLA, L_BFGS_B\n",
        "from qiskit_algorithms.utils import algorithm_globals\n",
        "from qiskit_machine_learning.algorithms.classifiers import NeuralNetworkClassifier, VQC\n",
        "from qiskit_machine_learning.algorithms.regressors import NeuralNetworkRegressor, VQR\n",
        "from qiskit_machine_learning.neural_networks import SamplerQNN, EstimatorQNN\n",
        "from qiskit_machine_learning.circuit.library import QNNCircuit\n",
        "from qiskit.circuit.library import RealAmplitudes, EfficientSU2, ZZFeatureMap, PauliFeatureMap\n",
        "from qiskit_machine_learning.connectors import TorchConnector\n",
        "from qiskit.quantum_info import SparsePauliOp\n",
        "from qiskit.opflow import PauliSumOp\n",
        "\n",
        "from torch import Tensor, cat, no_grad, manual_seed\n",
        "import torch\n",
        "import torch.nn as nn\n",
        "from torch.nn import Linear, CrossEntropyLoss, MSELoss\n",
        "from torch.optim import LBFGS, Adam\n",
        "\n",
        "\n",
        "\n",
        "algorithm_globals.random_seed = 42"
      ],
      "metadata": {
        "id": "t97G4p2SLlmn"
      },
      "execution_count": 56,
      "outputs": []
    },
    {
      "cell_type": "markdown",
      "source": [
        "#Quantum Neural Networks\n",
        "En esta práctica se investigará y conocerá la implementación de redes neuronales cuánticas con `Qiskit`además de su funcionamiento."
      ],
      "metadata": {
        "id": "YBC5teMGPTSt"
      }
    },
    {
      "cell_type": "markdown",
      "source": [
        "##Creación circuito\n",
        "Haciendo uso de Qiskit creamos el circuito de mapeo de los datos clásicos a un espacio cuántico (espacio de Hilbert).\n",
        "- Primero, definimos dos ParameterVectors llamados \"input\" y \"weight\" con el número de inputs y de pesos (parámetros entrenables).  \n",
        "- Después, creamos el circuito cuántico. Este tendrá 4 qubits. Aplicamos una rotación en el eje Y a cada uno utilizando los inputs. Además, colocamos una barrera por una visualización más limpia.  \n",
        "- Ahora, aplicamos puertas CNOT (cx) entre los qubits y colocamos otra barrerier.  \n",
        "- Luego, volvemos a aplicar rotaciones en el eje Y a cada uno de los qubits. En este caso, utilizamos los primeros 4 pesos (weights). Posteriormente, aplicamos rotaciones en el eje X utilizando los últimos 4 weights. Además, añadimos otra barrera.  \n",
        "- Por último, aplicamos otra serie de puertas CNOT en orden inverso al anterior y colocamos una barrera en el circuito.  \n",
        "* Graficamos el circuito con el método `.draw()`\n"
      ],
      "metadata": {
        "id": "c4Z1gkSi5wu9"
      }
    },
    {
      "cell_type": "code",
      "source": [
        "inputs = ParameterVector(\"input\", 4)\n",
        "weights = ParameterVector(\"weight\", 8)\n",
        "print(f\"input parameters: {[str(item) for item in inputs.params]}\")\n",
        "print(f\"weight parameters: {[str(item) for item in weights.params]}\")\n",
        "\n",
        "qc = QuantumCircuit(4)\n",
        "qc.ry(inputs[0], 0)\n",
        "qc.ry(inputs[1], 1)\n",
        "qc.ry(inputs[2], 2)\n",
        "qc.ry(inputs[3], 3)\n",
        "\n",
        "qc.barrier()\n",
        "\n",
        "qc.cx(0, 1)\n",
        "qc.cx(1, 2)\n",
        "qc.cx(2, 3)\n",
        "\n",
        "qc.barrier()\n",
        "\n",
        "qc.ry(weights[0], 0)\n",
        "qc.ry(weights[1], 1)\n",
        "qc.ry(weights[2], 2)\n",
        "qc.ry(weights[3], 3)\n",
        "qc.rx(weights[4], 0)\n",
        "qc.rx(weights[5], 1)\n",
        "qc.rx(weights[6], 2)\n",
        "qc.rx(weights[7], 3)\n",
        "\n",
        "qc.barrier()\n",
        "\n",
        "qc.cx(2, 3)\n",
        "qc.cx(1, 2)\n",
        "qc.cx(0, 1)\n",
        "\n",
        "qc.barrier()\n",
        "\n",
        "qc.draw()"
      ],
      "metadata": {
        "colab": {
          "base_uri": "https://localhost:8080/",
          "height": 330
        },
        "id": "J_SpePfnGx9F",
        "outputId": "c57a49dd-bac8-42a4-e3a3-65186872cb6a"
      },
      "execution_count": 57,
      "outputs": [
        {
          "output_type": "stream",
          "name": "stdout",
          "text": [
            "input parameters: ['input[0]', 'input[1]', 'input[2]', 'input[3]']\n",
            "weight parameters: ['weight[0]', 'weight[1]', 'weight[2]', 'weight[3]', 'weight[4]', 'weight[5]', 'weight[6]', 'weight[7]']\n"
          ]
        },
        {
          "output_type": "execute_result",
          "data": {
            "text/plain": [
              "     ┌──────────────┐ ░                 ░ ┌───────────────┐┌───────────────┐ ░ »\n",
              "q_0: ┤ Ry(input[0]) ├─░───■─────────────░─┤ Ry(weight[0]) ├┤ Rx(weight[4]) ├─░─»\n",
              "     ├──────────────┤ ░ ┌─┴─┐           ░ ├───────────────┤├───────────────┤ ░ »\n",
              "q_1: ┤ Ry(input[1]) ├─░─┤ X ├──■────────░─┤ Ry(weight[1]) ├┤ Rx(weight[5]) ├─░─»\n",
              "     ├──────────────┤ ░ └───┘┌─┴─┐      ░ ├───────────────┤├───────────────┤ ░ »\n",
              "q_2: ┤ Ry(input[2]) ├─░──────┤ X ├──■───░─┤ Ry(weight[2]) ├┤ Rx(weight[6]) ├─░─»\n",
              "     ├──────────────┤ ░      └───┘┌─┴─┐ ░ ├───────────────┤├───────────────┤ ░ »\n",
              "q_3: ┤ Ry(input[3]) ├─░───────────┤ X ├─░─┤ Ry(weight[3]) ├┤ Rx(weight[7]) ├─░─»\n",
              "     └──────────────┘ ░           └───┘ ░ └───────────────┘└───────────────┘ ░ »\n",
              "«                     ░ \n",
              "«q_0: ────────────■───░─\n",
              "«               ┌─┴─┐ ░ \n",
              "«q_1: ───────■──┤ X ├─░─\n",
              "«          ┌─┴─┐└───┘ ░ \n",
              "«q_2: ──■──┤ X ├──────░─\n",
              "«     ┌─┴─┐└───┘      ░ \n",
              "«q_3: ┤ X ├───────────░─\n",
              "«     └───┘           ░ "
            ],
            "text/html": [
              "<pre style=\"word-wrap: normal;white-space: pre;background: #fff0;line-height: 1.1;font-family: &quot;Courier New&quot;,Courier,monospace\">     ┌──────────────┐ ░                 ░ ┌───────────────┐┌───────────────┐ ░ »\n",
              "q_0: ┤ Ry(input[0]) ├─░───■─────────────░─┤ Ry(weight[0]) ├┤ Rx(weight[4]) ├─░─»\n",
              "     ├──────────────┤ ░ ┌─┴─┐           ░ ├───────────────┤├───────────────┤ ░ »\n",
              "q_1: ┤ Ry(input[1]) ├─░─┤ X ├──■────────░─┤ Ry(weight[1]) ├┤ Rx(weight[5]) ├─░─»\n",
              "     ├──────────────┤ ░ └───┘┌─┴─┐      ░ ├───────────────┤├───────────────┤ ░ »\n",
              "q_2: ┤ Ry(input[2]) ├─░──────┤ X ├──■───░─┤ Ry(weight[2]) ├┤ Rx(weight[6]) ├─░─»\n",
              "     ├──────────────┤ ░      └───┘┌─┴─┐ ░ ├───────────────┤├───────────────┤ ░ »\n",
              "q_3: ┤ Ry(input[3]) ├─░───────────┤ X ├─░─┤ Ry(weight[3]) ├┤ Rx(weight[7]) ├─░─»\n",
              "     └──────────────┘ ░           └───┘ ░ └───────────────┘└───────────────┘ ░ »\n",
              "«                     ░ \n",
              "«q_0: ────────────■───░─\n",
              "«               ┌─┴─┐ ░ \n",
              "«q_1: ───────■──┤ X ├─░─\n",
              "«          ┌─┴─┐└───┘ ░ \n",
              "«q_2: ──■──┤ X ├──────░─\n",
              "«     ┌─┴─┐└───┘      ░ \n",
              "«q_3: ┤ X ├───────────░─\n",
              "«     └───┘           ░ </pre>"
            ]
          },
          "metadata": {},
          "execution_count": 57
        }
      ]
    },
    {
      "cell_type": "code",
      "source": [
        "def parity(x):\n",
        "    return \"{:b}\".format(x).count(\"1\") % 2\n",
        "\n",
        "\n",
        "output_shape = 2  # corresponds to the number of classes, possible outcomes of the (parity) mapping."
      ],
      "metadata": {
        "id": "PvJlP4r2pMk_"
      },
      "execution_count": 58,
      "outputs": []
    },
    {
      "cell_type": "markdown",
      "source": [
        "Ahora podríamos definir la red neuronal cuántica tanto con SamplerQNN como con EstimatorQNN. Cada una son lo siguiente:\n",
        "- *SamplerQNN*: abstracción algorítmica para extraer distribuciones de probabilidad a partir de conteos de mediciones\n",
        "- *EstimatorQNN*: abstracción algorítmica para los cálculos del valor esperado"
      ],
      "metadata": {
        "id": "aB5QQwBp-Ksy"
      }
    },
    {
      "cell_type": "code",
      "source": [
        "sampler_qnn = SamplerQNN(circuit=qc, input_params=inputs, weight_params=weights, interpret=parity, output_shape=output_shape)\n",
        "sampler_qnn"
      ],
      "metadata": {
        "colab": {
          "base_uri": "https://localhost:8080/"
        },
        "id": "Qll2MuQyJmc6",
        "outputId": "b46f37f5-e691-4e7b-9f8f-af3bbdc17a75"
      },
      "execution_count": 59,
      "outputs": [
        {
          "output_type": "execute_result",
          "data": {
            "text/plain": [
              "<qiskit_machine_learning.neural_networks.sampler_qnn.SamplerQNN at 0x790150d7dae0>"
            ]
          },
          "metadata": {},
          "execution_count": 59
        }
      ]
    },
    {
      "cell_type": "markdown",
      "source": [
        "Ahora, creamos un input aleatorio y unos pesos aleatorios para posteriormente realizar el backward y el forward del circuito."
      ],
      "metadata": {
        "id": "tMQ4QkvW71JF"
      }
    },
    {
      "cell_type": "code",
      "source": [
        "sampler_qnn_input = algorithm_globals.random.random(sampler_qnn.num_inputs)\n",
        "sampler_qnn_weights = algorithm_globals.random.random(sampler_qnn.num_weights)"
      ],
      "metadata": {
        "id": "nCygG3wMLPHC"
      },
      "execution_count": 60,
      "outputs": []
    },
    {
      "cell_type": "markdown",
      "source": [
        "Comprobamos que se hayan generado correctamente."
      ],
      "metadata": {
        "id": "6ii1_YF-7-oz"
      }
    },
    {
      "cell_type": "code",
      "source": [
        "print(\n",
        "    f\"Number of input features for SamplerQNN: {sampler_qnn.num_inputs} \\nInput: {sampler_qnn_input}\"\n",
        ")\n",
        "print(\n",
        "    f\"Number of trainable weights for SamplerQNN: {sampler_qnn.num_weights} \\nWeights: {sampler_qnn_weights}\"\n",
        ")"
      ],
      "metadata": {
        "colab": {
          "base_uri": "https://localhost:8080/"
        },
        "id": "pWo1FFa9Lafm",
        "outputId": "82b6411a-8ad5-4cc3-9334-2d9972773853"
      },
      "execution_count": 61,
      "outputs": [
        {
          "output_type": "stream",
          "name": "stdout",
          "text": [
            "Number of input features for SamplerQNN: 4 \n",
            "Input: [0.77395605 0.43887844 0.85859792 0.69736803]\n",
            "Number of trainable weights for SamplerQNN: 8 \n",
            "Weights: [0.09417735 0.97562235 0.7611397  0.78606431 0.12811363 0.45038594\n",
            " 0.37079802 0.92676499]\n"
          ]
        }
      ]
    },
    {
      "cell_type": "markdown",
      "source": [
        "##Forward pass  \n",
        "El forward pass consiste en que la red neuronal toma las entradas, las procesa a través de las capas ocultas y genera una salida (predicción). Luego, se calcula el error entre la salida predicha y la salida real (objetivo).\n",
        "Podemos observar que la salida es la esperada, un vector con dos valores."
      ],
      "metadata": {
        "id": "4FdBWFCA8TIF"
      }
    },
    {
      "cell_type": "code",
      "source": [
        "sampler_qnn_forward = sampler_qnn.forward(sampler_qnn_input, sampler_qnn_weights)"
      ],
      "metadata": {
        "id": "OFtJTGAVLais"
      },
      "execution_count": 62,
      "outputs": []
    },
    {
      "cell_type": "code",
      "source": [
        "print(\n",
        "    f\"Forward pass result for SamplerQNN: {sampler_qnn_forward}.  \\nShape: {sampler_qnn_forward.shape}\"\n",
        ")"
      ],
      "metadata": {
        "colab": {
          "base_uri": "https://localhost:8080/"
        },
        "id": "rQqRE-IyOxWI",
        "outputId": "79b4c924-9b0d-42ed-a286-945c03b8df29"
      },
      "execution_count": 63,
      "outputs": [
        {
          "output_type": "stream",
          "name": "stdout",
          "text": [
            "Forward pass result for SamplerQNN: [[0.43237624 0.56762376]].  \n",
            "Shape: (1, 2)\n"
          ]
        }
      ]
    },
    {
      "cell_type": "markdown",
      "source": [
        "##Backward pass  \n",
        "El backward pass es el proceso de ajustar los pesos la red neuronal cuántica, comenzando desde la última capa y retrocediendo hacia la primera capa. Esto se hace mediante la aplicación de la regla de la cadena del cálculo y la propagación del error hacia atrás a través de la red. El objetivo es minimizar el error de la predicción.  \n",
        "Podemos observar que obtenemos dos vectores de 8 gradientes de los pesos.\n"
      ],
      "metadata": {
        "id": "t2Vpnq4B8a0r"
      }
    },
    {
      "cell_type": "code",
      "source": [
        "sampler_qnn_input_grad, sampler_qnn_weight_grad = sampler_qnn.backward(\n",
        "    sampler_qnn_input, sampler_qnn_weights\n",
        ")\n",
        "\n",
        "print(\n",
        "    f\"Input gradients for SamplerQNN: {sampler_qnn_input_grad}.  \\nShape: {sampler_qnn_input_grad}\"\n",
        ")\n",
        "print(\n",
        "    f\"Weight gradients for SamplerQNN: {sampler_qnn_weight_grad}.  \\nShape: {sampler_qnn_weight_grad.shape}\"\n",
        ")"
      ],
      "metadata": {
        "colab": {
          "base_uri": "https://localhost:8080/"
        },
        "id": "yoLxKy3zRyso",
        "outputId": "622466c9-6648-4cab-bd87-ae68c3c0e488"
      },
      "execution_count": 64,
      "outputs": [
        {
          "output_type": "stream",
          "name": "stdout",
          "text": [
            "Input gradients for SamplerQNN: None.  \n",
            "Shape: None\n",
            "Weight gradients for SamplerQNN: [[[ 5.03069808e-17 -1.22298005e-16  7.02563008e-17 -2.05123896e-01\n",
            "    0.00000000e+00  0.00000000e+00  1.12757026e-17  9.00654768e-02]\n",
            "  [-2.08166817e-17  4.16333634e-17  6.93889390e-17  2.05123896e-01\n",
            "    0.00000000e+00  0.00000000e+00 -1.38777878e-17 -9.00654768e-02]]].  \n",
            "Shape: (1, 2, 8)\n"
          ]
        }
      ]
    },
    {
      "cell_type": "markdown",
      "source": [
        "#Quantum NN Classifier VS. Classic NN\n",
        "En esta práctica implementaremos una Quantum Neural Network de clasificación binaria. Clasificaremos dos tipos de flores (Iris-setosa, Iris-versicolor) en función de cuatro atributos (SepalLengthCm,\tSepalWidthCm,\tPetalLengthCm,\tPetalWidthCm). Para ello usaremos las librerías de qiskit y qiskit_machine_learning. Esto será contrastado con una red neuronal clásica de clasificación."
      ],
      "metadata": {
        "id": "0_qlXCnZiofa"
      }
    },
    {
      "cell_type": "markdown",
      "source": [
        "##Preparación\n",
        "  \n",
        "####Importación de librerías y definición de semilla\n",
        "Importamos las librerías necesarias para el desarrollo del proyecto."
      ],
      "metadata": {
        "id": "r6NmGjtNjaJ1"
      }
    },
    {
      "cell_type": "markdown",
      "source": [
        "###Importación y preparación Dataset\n",
        "Importamos el dataset y eliminamos una de las tres especies para quedarnos con dos y realizar una clasificación binaria. Convertimos a variables categóricas numéricas la especie (Iris-setosa: 0, Iris-versicolor: 1). Dividimos los datos en train y test haciendo uso de la función train_test_split() de sklearn. En este caso los datos de train supondrán un 70% del total y test el resto."
      ],
      "metadata": {
        "id": "6XqWwlG0jnvH"
      }
    },
    {
      "cell_type": "code",
      "source": [
        "df = pd.read_csv('Iris.csv')\n",
        "df = df.drop('Id', axis=1)\n",
        "df['Species'] = pd.Categorical(df['Species'])\n",
        "df = df[df['Species'] != 'Iris-virginica']\n",
        "df['Species'] = df['Species'].replace({'Iris-setosa': int(-1), 'Iris-versicolor': int(1)})\n",
        "\n",
        "x = df.loc[:, ['SepalLengthCm', 'SepalWidthCm', 'PetalLengthCm', 'PetalWidthCm']].values\n",
        "y = df.loc[:, ['Species']].values\n",
        "\n",
        "df.head()"
      ],
      "metadata": {
        "colab": {
          "base_uri": "https://localhost:8080/",
          "height": 206
        },
        "id": "Jz8tMCZlOTIC",
        "outputId": "2e5881af-a192-44db-cfee-ab99e3946f18"
      },
      "execution_count": 65,
      "outputs": [
        {
          "output_type": "execute_result",
          "data": {
            "text/plain": [
              "   SepalLengthCm  SepalWidthCm  PetalLengthCm  PetalWidthCm Species\n",
              "0            5.1           3.5            1.4           0.2      -1\n",
              "1            4.9           3.0            1.4           0.2      -1\n",
              "2            4.7           3.2            1.3           0.2      -1\n",
              "3            4.6           3.1            1.5           0.2      -1\n",
              "4            5.0           3.6            1.4           0.2      -1"
            ],
            "text/html": [
              "\n",
              "  <div id=\"df-fea160ee-f279-4cb1-9827-13ed677ac8bf\" class=\"colab-df-container\">\n",
              "    <div>\n",
              "<style scoped>\n",
              "    .dataframe tbody tr th:only-of-type {\n",
              "        vertical-align: middle;\n",
              "    }\n",
              "\n",
              "    .dataframe tbody tr th {\n",
              "        vertical-align: top;\n",
              "    }\n",
              "\n",
              "    .dataframe thead th {\n",
              "        text-align: right;\n",
              "    }\n",
              "</style>\n",
              "<table border=\"1\" class=\"dataframe\">\n",
              "  <thead>\n",
              "    <tr style=\"text-align: right;\">\n",
              "      <th></th>\n",
              "      <th>SepalLengthCm</th>\n",
              "      <th>SepalWidthCm</th>\n",
              "      <th>PetalLengthCm</th>\n",
              "      <th>PetalWidthCm</th>\n",
              "      <th>Species</th>\n",
              "    </tr>\n",
              "  </thead>\n",
              "  <tbody>\n",
              "    <tr>\n",
              "      <th>0</th>\n",
              "      <td>5.1</td>\n",
              "      <td>3.5</td>\n",
              "      <td>1.4</td>\n",
              "      <td>0.2</td>\n",
              "      <td>-1</td>\n",
              "    </tr>\n",
              "    <tr>\n",
              "      <th>1</th>\n",
              "      <td>4.9</td>\n",
              "      <td>3.0</td>\n",
              "      <td>1.4</td>\n",
              "      <td>0.2</td>\n",
              "      <td>-1</td>\n",
              "    </tr>\n",
              "    <tr>\n",
              "      <th>2</th>\n",
              "      <td>4.7</td>\n",
              "      <td>3.2</td>\n",
              "      <td>1.3</td>\n",
              "      <td>0.2</td>\n",
              "      <td>-1</td>\n",
              "    </tr>\n",
              "    <tr>\n",
              "      <th>3</th>\n",
              "      <td>4.6</td>\n",
              "      <td>3.1</td>\n",
              "      <td>1.5</td>\n",
              "      <td>0.2</td>\n",
              "      <td>-1</td>\n",
              "    </tr>\n",
              "    <tr>\n",
              "      <th>4</th>\n",
              "      <td>5.0</td>\n",
              "      <td>3.6</td>\n",
              "      <td>1.4</td>\n",
              "      <td>0.2</td>\n",
              "      <td>-1</td>\n",
              "    </tr>\n",
              "  </tbody>\n",
              "</table>\n",
              "</div>\n",
              "    <div class=\"colab-df-buttons\">\n",
              "\n",
              "  <div class=\"colab-df-container\">\n",
              "    <button class=\"colab-df-convert\" onclick=\"convertToInteractive('df-fea160ee-f279-4cb1-9827-13ed677ac8bf')\"\n",
              "            title=\"Convert this dataframe to an interactive table.\"\n",
              "            style=\"display:none;\">\n",
              "\n",
              "  <svg xmlns=\"http://www.w3.org/2000/svg\" height=\"24px\" viewBox=\"0 -960 960 960\">\n",
              "    <path d=\"M120-120v-720h720v720H120Zm60-500h600v-160H180v160Zm220 220h160v-160H400v160Zm0 220h160v-160H400v160ZM180-400h160v-160H180v160Zm440 0h160v-160H620v160ZM180-180h160v-160H180v160Zm440 0h160v-160H620v160Z\"/>\n",
              "  </svg>\n",
              "    </button>\n",
              "\n",
              "  <style>\n",
              "    .colab-df-container {\n",
              "      display:flex;\n",
              "      gap: 12px;\n",
              "    }\n",
              "\n",
              "    .colab-df-convert {\n",
              "      background-color: #E8F0FE;\n",
              "      border: none;\n",
              "      border-radius: 50%;\n",
              "      cursor: pointer;\n",
              "      display: none;\n",
              "      fill: #1967D2;\n",
              "      height: 32px;\n",
              "      padding: 0 0 0 0;\n",
              "      width: 32px;\n",
              "    }\n",
              "\n",
              "    .colab-df-convert:hover {\n",
              "      background-color: #E2EBFA;\n",
              "      box-shadow: 0px 1px 2px rgba(60, 64, 67, 0.3), 0px 1px 3px 1px rgba(60, 64, 67, 0.15);\n",
              "      fill: #174EA6;\n",
              "    }\n",
              "\n",
              "    .colab-df-buttons div {\n",
              "      margin-bottom: 4px;\n",
              "    }\n",
              "\n",
              "    [theme=dark] .colab-df-convert {\n",
              "      background-color: #3B4455;\n",
              "      fill: #D2E3FC;\n",
              "    }\n",
              "\n",
              "    [theme=dark] .colab-df-convert:hover {\n",
              "      background-color: #434B5C;\n",
              "      box-shadow: 0px 1px 3px 1px rgba(0, 0, 0, 0.15);\n",
              "      filter: drop-shadow(0px 1px 2px rgba(0, 0, 0, 0.3));\n",
              "      fill: #FFFFFF;\n",
              "    }\n",
              "  </style>\n",
              "\n",
              "    <script>\n",
              "      const buttonEl =\n",
              "        document.querySelector('#df-fea160ee-f279-4cb1-9827-13ed677ac8bf button.colab-df-convert');\n",
              "      buttonEl.style.display =\n",
              "        google.colab.kernel.accessAllowed ? 'block' : 'none';\n",
              "\n",
              "      async function convertToInteractive(key) {\n",
              "        const element = document.querySelector('#df-fea160ee-f279-4cb1-9827-13ed677ac8bf');\n",
              "        const dataTable =\n",
              "          await google.colab.kernel.invokeFunction('convertToInteractive',\n",
              "                                                    [key], {});\n",
              "        if (!dataTable) return;\n",
              "\n",
              "        const docLinkHtml = 'Like what you see? Visit the ' +\n",
              "          '<a target=\"_blank\" href=https://colab.research.google.com/notebooks/data_table.ipynb>data table notebook</a>'\n",
              "          + ' to learn more about interactive tables.';\n",
              "        element.innerHTML = '';\n",
              "        dataTable['output_type'] = 'display_data';\n",
              "        await google.colab.output.renderOutput(dataTable, element);\n",
              "        const docLink = document.createElement('div');\n",
              "        docLink.innerHTML = docLinkHtml;\n",
              "        element.appendChild(docLink);\n",
              "      }\n",
              "    </script>\n",
              "  </div>\n",
              "\n",
              "\n",
              "<div id=\"df-92e79938-11e9-42aa-aab9-af85731f9d81\">\n",
              "  <button class=\"colab-df-quickchart\" onclick=\"quickchart('df-92e79938-11e9-42aa-aab9-af85731f9d81')\"\n",
              "            title=\"Suggest charts\"\n",
              "            style=\"display:none;\">\n",
              "\n",
              "<svg xmlns=\"http://www.w3.org/2000/svg\" height=\"24px\"viewBox=\"0 0 24 24\"\n",
              "     width=\"24px\">\n",
              "    <g>\n",
              "        <path d=\"M19 3H5c-1.1 0-2 .9-2 2v14c0 1.1.9 2 2 2h14c1.1 0 2-.9 2-2V5c0-1.1-.9-2-2-2zM9 17H7v-7h2v7zm4 0h-2V7h2v10zm4 0h-2v-4h2v4z\"/>\n",
              "    </g>\n",
              "</svg>\n",
              "  </button>\n",
              "\n",
              "<style>\n",
              "  .colab-df-quickchart {\n",
              "      --bg-color: #E8F0FE;\n",
              "      --fill-color: #1967D2;\n",
              "      --hover-bg-color: #E2EBFA;\n",
              "      --hover-fill-color: #174EA6;\n",
              "      --disabled-fill-color: #AAA;\n",
              "      --disabled-bg-color: #DDD;\n",
              "  }\n",
              "\n",
              "  [theme=dark] .colab-df-quickchart {\n",
              "      --bg-color: #3B4455;\n",
              "      --fill-color: #D2E3FC;\n",
              "      --hover-bg-color: #434B5C;\n",
              "      --hover-fill-color: #FFFFFF;\n",
              "      --disabled-bg-color: #3B4455;\n",
              "      --disabled-fill-color: #666;\n",
              "  }\n",
              "\n",
              "  .colab-df-quickchart {\n",
              "    background-color: var(--bg-color);\n",
              "    border: none;\n",
              "    border-radius: 50%;\n",
              "    cursor: pointer;\n",
              "    display: none;\n",
              "    fill: var(--fill-color);\n",
              "    height: 32px;\n",
              "    padding: 0;\n",
              "    width: 32px;\n",
              "  }\n",
              "\n",
              "  .colab-df-quickchart:hover {\n",
              "    background-color: var(--hover-bg-color);\n",
              "    box-shadow: 0 1px 2px rgba(60, 64, 67, 0.3), 0 1px 3px 1px rgba(60, 64, 67, 0.15);\n",
              "    fill: var(--button-hover-fill-color);\n",
              "  }\n",
              "\n",
              "  .colab-df-quickchart-complete:disabled,\n",
              "  .colab-df-quickchart-complete:disabled:hover {\n",
              "    background-color: var(--disabled-bg-color);\n",
              "    fill: var(--disabled-fill-color);\n",
              "    box-shadow: none;\n",
              "  }\n",
              "\n",
              "  .colab-df-spinner {\n",
              "    border: 2px solid var(--fill-color);\n",
              "    border-color: transparent;\n",
              "    border-bottom-color: var(--fill-color);\n",
              "    animation:\n",
              "      spin 1s steps(1) infinite;\n",
              "  }\n",
              "\n",
              "  @keyframes spin {\n",
              "    0% {\n",
              "      border-color: transparent;\n",
              "      border-bottom-color: var(--fill-color);\n",
              "      border-left-color: var(--fill-color);\n",
              "    }\n",
              "    20% {\n",
              "      border-color: transparent;\n",
              "      border-left-color: var(--fill-color);\n",
              "      border-top-color: var(--fill-color);\n",
              "    }\n",
              "    30% {\n",
              "      border-color: transparent;\n",
              "      border-left-color: var(--fill-color);\n",
              "      border-top-color: var(--fill-color);\n",
              "      border-right-color: var(--fill-color);\n",
              "    }\n",
              "    40% {\n",
              "      border-color: transparent;\n",
              "      border-right-color: var(--fill-color);\n",
              "      border-top-color: var(--fill-color);\n",
              "    }\n",
              "    60% {\n",
              "      border-color: transparent;\n",
              "      border-right-color: var(--fill-color);\n",
              "    }\n",
              "    80% {\n",
              "      border-color: transparent;\n",
              "      border-right-color: var(--fill-color);\n",
              "      border-bottom-color: var(--fill-color);\n",
              "    }\n",
              "    90% {\n",
              "      border-color: transparent;\n",
              "      border-bottom-color: var(--fill-color);\n",
              "    }\n",
              "  }\n",
              "</style>\n",
              "\n",
              "  <script>\n",
              "    async function quickchart(key) {\n",
              "      const quickchartButtonEl =\n",
              "        document.querySelector('#' + key + ' button');\n",
              "      quickchartButtonEl.disabled = true;  // To prevent multiple clicks.\n",
              "      quickchartButtonEl.classList.add('colab-df-spinner');\n",
              "      try {\n",
              "        const charts = await google.colab.kernel.invokeFunction(\n",
              "            'suggestCharts', [key], {});\n",
              "      } catch (error) {\n",
              "        console.error('Error during call to suggestCharts:', error);\n",
              "      }\n",
              "      quickchartButtonEl.classList.remove('colab-df-spinner');\n",
              "      quickchartButtonEl.classList.add('colab-df-quickchart-complete');\n",
              "    }\n",
              "    (() => {\n",
              "      let quickchartButtonEl =\n",
              "        document.querySelector('#df-92e79938-11e9-42aa-aab9-af85731f9d81 button');\n",
              "      quickchartButtonEl.style.display =\n",
              "        google.colab.kernel.accessAllowed ? 'block' : 'none';\n",
              "    })();\n",
              "  </script>\n",
              "</div>\n",
              "    </div>\n",
              "  </div>\n"
            ]
          },
          "metadata": {},
          "execution_count": 65
        }
      ]
    },
    {
      "cell_type": "markdown",
      "source": [
        "Confirmamos que el dataset es como se esperaba y los datos de train y test (data y labels) tienen la estructura correcta. Continuamos al siguiente paso.  \n",
        "Dividimos los datos en test y train. Y los preparamos para poder ser introducidos a la red neuronal. Ademas los escalamos entre 0 y 1 para un mejor rendimiento. Ademas, vemos la estructura de los datos para confirmar que es correcta."
      ],
      "metadata": {
        "id": "3GmTdWKuk55_"
      }
    },
    {
      "cell_type": "code",
      "source": [
        "X_train, X_test, y_train, y_test = train_test_split(x, y, test_size=0.3, random_state=42)\n",
        "y_train = y_train.flatten().astype(int)\n",
        "y_test = y_test.flatten().astype(int)\n",
        "print(\"Training set shape:\", X_train.shape, y_train.shape)\n",
        "print(\"Testing set shape:\", X_test.shape, y_test.shape)\n",
        "\n",
        "# Escalar los datos en el rango [0, 1]\n",
        "scaler = MinMaxScaler(feature_range=(0, 1))\n",
        "X_train_c = scaler.fit_transform(X_train)\n",
        "X_test_c = scaler.fit_transform(X_test)\n",
        "\n",
        "y_train_x = [0 if x == -1 else x for x in y_train]\n",
        "y_test_x =[0 if x == -1 else x for x in y_test]"
      ],
      "metadata": {
        "colab": {
          "base_uri": "https://localhost:8080/"
        },
        "id": "UH0CXX1SsZc1",
        "outputId": "ce7f5e71-2490-4738-f06f-1816e9a8dc9c"
      },
      "execution_count": 66,
      "outputs": [
        {
          "output_type": "stream",
          "name": "stdout",
          "text": [
            "Training set shape: (70, 4) (70,)\n",
            "Testing set shape: (30, 4) (30,)\n"
          ]
        }
      ]
    },
    {
      "cell_type": "markdown",
      "source": [
        "##QNN"
      ],
      "metadata": {
        "id": "Z_KSb85kthDl"
      }
    },
    {
      "cell_type": "markdown",
      "source": [
        "###Construcción Circuito Cuántico\n",
        "\n"
      ],
      "metadata": {
        "id": "FbNprZ2ilFEQ"
      }
    },
    {
      "cell_type": "markdown",
      "source": [
        "####Mapeo de los datos a espacio de Hilbert (Codificación Cuántica)\n",
        "Para la creación del circuito definimos primero ciertos valores:\n",
        "1.   Features: número de atributos (4) que serán el input del QNN\n",
        "2.   Num_Qubits: número de qubits del circuito (4)\n",
        "Posteriormente, se crea el circuito cuántico. Tendremos cuatro qubits (cada uno trabajara con una entrada). En estos se realiza una rotación en el eje y en función del input. Posteriormente se entrelazan todos los qubits  y se vuelve a realizar dos rotaciónes en el eje y para cada qubit. Aquí es donde entran en juego los pesos. Cada rotación se realiza en función de un peso diferente, el cual se ajustará para obtener mejores resultados. Por último, se *deshace* el entrelazamiento y se mide. Se puede observar el circuito debajo del cuadro de código."
      ],
      "metadata": {
        "id": "MBGY-BGDOG8e"
      }
    },
    {
      "cell_type": "code",
      "source": [
        "features = 4\n",
        "num_qubits = features"
      ],
      "metadata": {
        "id": "vfQsmnXgdyTw"
      },
      "execution_count": 67,
      "outputs": []
    },
    {
      "cell_type": "markdown",
      "source": [
        "Posteriormente, definimos un ZZFeatureMap que mapeara nuestros datos numéricos a estados cuánticos. La estructura para 3 qubits es la siguiente:  ![Screenshot 2023-11-29 at 14.02.49.png](data:image/png;base64,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)"
      ],
      "metadata": {
        "id": "o5yKE0OlK61O"
      }
    },
    {
      "cell_type": "markdown",
      "source": [
        "En nuestro caso, creamos un ZZFeatureMap con 4 features, una repetición y entrelazamiento completo."
      ],
      "metadata": {
        "id": "7mzAmsstLbRC"
      }
    },
    {
      "cell_type": "code",
      "source": [
        "feature_map = ZZFeatureMap(feature_dimension = features, reps = 1, entanglement = \"full\")\n",
        "#feature_map = PauliFeatureMap(feature_dimension = features, reps=1, paulis=['Z', 'XX'], entanglement = \"full\")\n",
        "feature_map.decompose().draw()"
      ],
      "metadata": {
        "colab": {
          "base_uri": "https://localhost:8080/",
          "height": 710
        },
        "id": "L2WVakcleRYA",
        "outputId": "46d40b55-4a38-4fac-aea0-2e9d32e44ab3"
      },
      "execution_count": 68,
      "outputs": [
        {
          "output_type": "execute_result",
          "data": {
            "text/plain": [
              "     ┌───┐┌─────────────┐                                               »\n",
              "q_0: ┤ H ├┤ P(2.0*x[0]) ├──■────────────────────────────────────■────■──»\n",
              "     ├───┤├─────────────┤┌─┴─┐┌──────────────────────────────┐┌─┴─┐  │  »\n",
              "q_1: ┤ H ├┤ P(2.0*x[1]) ├┤ X ├┤ P(2.0*(π - x[0])*(π - x[1])) ├┤ X ├──┼──»\n",
              "     ├───┤├─────────────┤└───┘└──────────────────────────────┘└───┘┌─┴─┐»\n",
              "q_2: ┤ H ├┤ P(2.0*x[2]) ├──────────────────────────────────────────┤ X ├»\n",
              "     ├───┤├─────────────┤                                          └───┘»\n",
              "q_3: ┤ H ├┤ P(2.0*x[3]) ├───────────────────────────────────────────────»\n",
              "     └───┘└─────────────┘                                               »\n",
              "«                                                    »\n",
              "«q_0: ──────────────────────────────────■─────────■──»\n",
              "«                                       │         │  »\n",
              "«q_1: ──────────────────────────────────┼────■────┼──»\n",
              "«     ┌──────────────────────────────┐┌─┴─┐┌─┴─┐  │  »\n",
              "«q_2: ┤ P(2.0*(π - x[0])*(π - x[2])) ├┤ X ├┤ X ├──┼──»\n",
              "«     └──────────────────────────────┘└───┘└───┘┌─┴─┐»\n",
              "«q_3: ──────────────────────────────────────────┤ X ├»\n",
              "«                                               └───┘»\n",
              "«                                                    »\n",
              "«q_0: ───────────────────────────────────────■───────»\n",
              "«                                            │       »\n",
              "«q_1: ──────────────────────────────────■────┼────■──»\n",
              "«     ┌──────────────────────────────┐┌─┴─┐  │    │  »\n",
              "«q_2: ┤ P(2.0*(π - x[1])*(π - x[2])) ├┤ X ├──┼────┼──»\n",
              "«     ├──────────────────────────────┤└───┘┌─┴─┐┌─┴─┐»\n",
              "«q_3: ┤ P(2.0*(π - x[0])*(π - x[3])) ├─────┤ X ├┤ X ├»\n",
              "«     └──────────────────────────────┘     └───┘└───┘»\n",
              "«                                               »\n",
              "«q_0: ──────────────────────────────────────────»\n",
              "«                                               »\n",
              "«q_1: ──────────────────────────────────■───────»\n",
              "«                                       │       »\n",
              "«q_2: ──────────────────────────────────┼────■──»\n",
              "«     ┌──────────────────────────────┐┌─┴─┐┌─┴─┐»\n",
              "«q_3: ┤ P(2.0*(π - x[1])*(π - x[3])) ├┤ X ├┤ X ├»\n",
              "«     └──────────────────────────────┘└───┘└───┘»\n",
              "«                                          \n",
              "«q_0: ─────────────────────────────────────\n",
              "«                                          \n",
              "«q_1: ─────────────────────────────────────\n",
              "«                                          \n",
              "«q_2: ──────────────────────────────────■──\n",
              "«     ┌──────────────────────────────┐┌─┴─┐\n",
              "«q_3: ┤ P(2.0*(π - x[2])*(π - x[3])) ├┤ X ├\n",
              "«     └──────────────────────────────┘└───┘"
            ],
            "text/html": [
              "<pre style=\"word-wrap: normal;white-space: pre;background: #fff0;line-height: 1.1;font-family: &quot;Courier New&quot;,Courier,monospace\">     ┌───┐┌─────────────┐                                               »\n",
              "q_0: ┤ H ├┤ P(2.0*x[0]) ├──■────────────────────────────────────■────■──»\n",
              "     ├───┤├─────────────┤┌─┴─┐┌──────────────────────────────┐┌─┴─┐  │  »\n",
              "q_1: ┤ H ├┤ P(2.0*x[1]) ├┤ X ├┤ P(2.0*(π - x[0])*(π - x[1])) ├┤ X ├──┼──»\n",
              "     ├───┤├─────────────┤└───┘└──────────────────────────────┘└───┘┌─┴─┐»\n",
              "q_2: ┤ H ├┤ P(2.0*x[2]) ├──────────────────────────────────────────┤ X ├»\n",
              "     ├───┤├─────────────┤                                          └───┘»\n",
              "q_3: ┤ H ├┤ P(2.0*x[3]) ├───────────────────────────────────────────────»\n",
              "     └───┘└─────────────┘                                               »\n",
              "«                                                    »\n",
              "«q_0: ──────────────────────────────────■─────────■──»\n",
              "«                                       │         │  »\n",
              "«q_1: ──────────────────────────────────┼────■────┼──»\n",
              "«     ┌──────────────────────────────┐┌─┴─┐┌─┴─┐  │  »\n",
              "«q_2: ┤ P(2.0*(π - x[0])*(π - x[2])) ├┤ X ├┤ X ├──┼──»\n",
              "«     └──────────────────────────────┘└───┘└───┘┌─┴─┐»\n",
              "«q_3: ──────────────────────────────────────────┤ X ├»\n",
              "«                                               └───┘»\n",
              "«                                                    »\n",
              "«q_0: ───────────────────────────────────────■───────»\n",
              "«                                            │       »\n",
              "«q_1: ──────────────────────────────────■────┼────■──»\n",
              "«     ┌──────────────────────────────┐┌─┴─┐  │    │  »\n",
              "«q_2: ┤ P(2.0*(π - x[1])*(π - x[2])) ├┤ X ├──┼────┼──»\n",
              "«     ├──────────────────────────────┤└───┘┌─┴─┐┌─┴─┐»\n",
              "«q_3: ┤ P(2.0*(π - x[0])*(π - x[3])) ├─────┤ X ├┤ X ├»\n",
              "«     └──────────────────────────────┘     └───┘└───┘»\n",
              "«                                               »\n",
              "«q_0: ──────────────────────────────────────────»\n",
              "«                                               »\n",
              "«q_1: ──────────────────────────────────■───────»\n",
              "«                                       │       »\n",
              "«q_2: ──────────────────────────────────┼────■──»\n",
              "«     ┌──────────────────────────────┐┌─┴─┐┌─┴─┐»\n",
              "«q_3: ┤ P(2.0*(π - x[1])*(π - x[3])) ├┤ X ├┤ X ├»\n",
              "«     └──────────────────────────────┘└───┘└───┘»\n",
              "«                                          \n",
              "«q_0: ─────────────────────────────────────\n",
              "«                                          \n",
              "«q_1: ─────────────────────────────────────\n",
              "«                                          \n",
              "«q_2: ──────────────────────────────────■──\n",
              "«     ┌──────────────────────────────┐┌─┴─┐\n",
              "«q_3: ┤ P(2.0*(π - x[2])*(π - x[3])) ├┤ X ├\n",
              "«     └──────────────────────────────┘└───┘</pre>"
            ]
          },
          "metadata": {},
          "execution_count": 68
        }
      ]
    },
    {
      "cell_type": "markdown",
      "source": [
        "A continuación, creamos el ansatz. Este será un EfficientSU2 (tras investigación se llego a la conclusión de que funcionaba bien en este caso). Este tendrá 4 qubits (los de nuestro circuito), se repetirá 4 veces y tendrá entrelazamiento completo."
      ],
      "metadata": {
        "id": "zxRo7cljqzmS"
      }
    },
    {
      "cell_type": "code",
      "source": [
        "#variational_circ = RealAmplitudes(num_qubits = num_qubits, reps = 4, entanglement = \"full\")\n",
        "circuit = EfficientSU2(num_qubits = num_qubits, reps = 4, entanglement = \"full\")\n",
        "circuit.decompose().draw()"
      ],
      "metadata": {
        "colab": {
          "base_uri": "https://localhost:8080/",
          "height": 710
        },
        "id": "zvuNt03tePXc",
        "outputId": "1b2a0745-56ba-489b-ad2d-351e575df5b9"
      },
      "execution_count": 69,
      "outputs": [
        {
          "output_type": "execute_result",
          "data": {
            "text/plain": [
              "     ┌──────────┐┌──────────┐                    ┌──────────┐┌───────────┐»\n",
              "q_0: ┤ Ry(θ[0]) ├┤ Rz(θ[4]) ├──■────■─────────■──┤ Ry(θ[8]) ├┤ Rz(θ[12]) ├»\n",
              "     ├──────────┤├──────────┤┌─┴─┐  │         │  └──────────┘└┬──────────┤»\n",
              "q_1: ┤ Ry(θ[1]) ├┤ Rz(θ[5]) ├┤ X ├──┼────■────┼───────■───────┤ Ry(θ[9]) ├»\n",
              "     ├──────────┤├──────────┤└───┘┌─┴─┐┌─┴─┐  │       │       └──────────┘»\n",
              "q_2: ┤ Ry(θ[2]) ├┤ Rz(θ[6]) ├─────┤ X ├┤ X ├──┼───────┼────────────■──────»\n",
              "     ├──────────┤├──────────┤     └───┘└───┘┌─┴─┐   ┌─┴─┐        ┌─┴─┐    »\n",
              "q_3: ┤ Ry(θ[3]) ├┤ Rz(θ[7]) ├───────────────┤ X ├───┤ X ├────────┤ X ├────»\n",
              "     └──────────┘└──────────┘               └───┘   └───┘        └───┘    »\n",
              "«                                              ┌───────────┐┌───────────┐»\n",
              "«q_0: ───────────────────■────────■─────────■──┤ Ry(θ[16]) ├┤ Rz(θ[20]) ├»\n",
              "«     ┌───────────┐    ┌─┴─┐      │         │  └───────────┘├───────────┤»\n",
              "«q_1: ┤ Rz(θ[13]) ├────┤ X ├──────┼────■────┼────────■──────┤ Ry(θ[17]) ├»\n",
              "«     ├───────────┤┌───┴───┴───┐┌─┴─┐┌─┴─┐  │        │      └───────────┘»\n",
              "«q_2: ┤ Ry(θ[10]) ├┤ Rz(θ[14]) ├┤ X ├┤ X ├──┼────────┼────────────■──────»\n",
              "«     ├───────────┤├───────────┤└───┘└───┘┌─┴─┐    ┌─┴─┐        ┌─┴─┐    »\n",
              "«q_3: ┤ Ry(θ[11]) ├┤ Rz(θ[15]) ├──────────┤ X ├────┤ X ├────────┤ X ├────»\n",
              "«     └───────────┘└───────────┘          └───┘    └───┘        └───┘    »\n",
              "«                                              ┌───────────┐┌───────────┐»\n",
              "«q_0: ───────────────────■────────■─────────■──┤ Ry(θ[24]) ├┤ Rz(θ[28]) ├»\n",
              "«     ┌───────────┐    ┌─┴─┐      │         │  └───────────┘├───────────┤»\n",
              "«q_1: ┤ Rz(θ[21]) ├────┤ X ├──────┼────■────┼────────■──────┤ Ry(θ[25]) ├»\n",
              "«     ├───────────┤┌───┴───┴───┐┌─┴─┐┌─┴─┐  │        │      └───────────┘»\n",
              "«q_2: ┤ Ry(θ[18]) ├┤ Rz(θ[22]) ├┤ X ├┤ X ├──┼────────┼────────────■──────»\n",
              "«     ├───────────┤├───────────┤└───┘└───┘┌─┴─┐    ┌─┴─┐        ┌─┴─┐    »\n",
              "«q_3: ┤ Ry(θ[19]) ├┤ Rz(θ[23]) ├──────────┤ X ├────┤ X ├────────┤ X ├────»\n",
              "«     └───────────┘└───────────┘          └───┘    └───┘        └───┘    »\n",
              "«                                              ┌───────────┐┌───────────┐»\n",
              "«q_0: ───────────────────■────────■─────────■──┤ Ry(θ[32]) ├┤ Rz(θ[36]) ├»\n",
              "«     ┌───────────┐    ┌─┴─┐      │         │  └───────────┘├───────────┤»\n",
              "«q_1: ┤ Rz(θ[29]) ├────┤ X ├──────┼────■────┼────────■──────┤ Ry(θ[33]) ├»\n",
              "«     ├───────────┤┌───┴───┴───┐┌─┴─┐┌─┴─┐  │        │      └───────────┘»\n",
              "«q_2: ┤ Ry(θ[26]) ├┤ Rz(θ[30]) ├┤ X ├┤ X ├──┼────────┼────────────■──────»\n",
              "«     ├───────────┤├───────────┤└───┘└───┘┌─┴─┐    ┌─┴─┐        ┌─┴─┐    »\n",
              "«q_3: ┤ Ry(θ[27]) ├┤ Rz(θ[31]) ├──────────┤ X ├────┤ X ├────────┤ X ├────»\n",
              "«     └───────────┘└───────────┘          └───┘    └───┘        └───┘    »\n",
              "«                               \n",
              "«q_0: ──────────────────────────\n",
              "«     ┌───────────┐             \n",
              "«q_1: ┤ Rz(θ[37]) ├─────────────\n",
              "«     ├───────────┤┌───────────┐\n",
              "«q_2: ┤ Ry(θ[34]) ├┤ Rz(θ[38]) ├\n",
              "«     ├───────────┤├───────────┤\n",
              "«q_3: ┤ Ry(θ[35]) ├┤ Rz(θ[39]) ├\n",
              "«     └───────────┘└───────────┘"
            ],
            "text/html": [
              "<pre style=\"word-wrap: normal;white-space: pre;background: #fff0;line-height: 1.1;font-family: &quot;Courier New&quot;,Courier,monospace\">     ┌──────────┐┌──────────┐                    ┌──────────┐┌───────────┐»\n",
              "q_0: ┤ Ry(θ[0]) ├┤ Rz(θ[4]) ├──■────■─────────■──┤ Ry(θ[8]) ├┤ Rz(θ[12]) ├»\n",
              "     ├──────────┤├──────────┤┌─┴─┐  │         │  └──────────┘└┬──────────┤»\n",
              "q_1: ┤ Ry(θ[1]) ├┤ Rz(θ[5]) ├┤ X ├──┼────■────┼───────■───────┤ Ry(θ[9]) ├»\n",
              "     ├──────────┤├──────────┤└───┘┌─┴─┐┌─┴─┐  │       │       └──────────┘»\n",
              "q_2: ┤ Ry(θ[2]) ├┤ Rz(θ[6]) ├─────┤ X ├┤ X ├──┼───────┼────────────■──────»\n",
              "     ├──────────┤├──────────┤     └───┘└───┘┌─┴─┐   ┌─┴─┐        ┌─┴─┐    »\n",
              "q_3: ┤ Ry(θ[3]) ├┤ Rz(θ[7]) ├───────────────┤ X ├───┤ X ├────────┤ X ├────»\n",
              "     └──────────┘└──────────┘               └───┘   └───┘        └───┘    »\n",
              "«                                              ┌───────────┐┌───────────┐»\n",
              "«q_0: ───────────────────■────────■─────────■──┤ Ry(θ[16]) ├┤ Rz(θ[20]) ├»\n",
              "«     ┌───────────┐    ┌─┴─┐      │         │  └───────────┘├───────────┤»\n",
              "«q_1: ┤ Rz(θ[13]) ├────┤ X ├──────┼────■────┼────────■──────┤ Ry(θ[17]) ├»\n",
              "«     ├───────────┤┌───┴───┴───┐┌─┴─┐┌─┴─┐  │        │      └───────────┘»\n",
              "«q_2: ┤ Ry(θ[10]) ├┤ Rz(θ[14]) ├┤ X ├┤ X ├──┼────────┼────────────■──────»\n",
              "«     ├───────────┤├───────────┤└───┘└───┘┌─┴─┐    ┌─┴─┐        ┌─┴─┐    »\n",
              "«q_3: ┤ Ry(θ[11]) ├┤ Rz(θ[15]) ├──────────┤ X ├────┤ X ├────────┤ X ├────»\n",
              "«     └───────────┘└───────────┘          └───┘    └───┘        └───┘    »\n",
              "«                                              ┌───────────┐┌───────────┐»\n",
              "«q_0: ───────────────────■────────■─────────■──┤ Ry(θ[24]) ├┤ Rz(θ[28]) ├»\n",
              "«     ┌───────────┐    ┌─┴─┐      │         │  └───────────┘├───────────┤»\n",
              "«q_1: ┤ Rz(θ[21]) ├────┤ X ├──────┼────■────┼────────■──────┤ Ry(θ[25]) ├»\n",
              "«     ├───────────┤┌───┴───┴───┐┌─┴─┐┌─┴─┐  │        │      └───────────┘»\n",
              "«q_2: ┤ Ry(θ[18]) ├┤ Rz(θ[22]) ├┤ X ├┤ X ├──┼────────┼────────────■──────»\n",
              "«     ├───────────┤├───────────┤└───┘└───┘┌─┴─┐    ┌─┴─┐        ┌─┴─┐    »\n",
              "«q_3: ┤ Ry(θ[19]) ├┤ Rz(θ[23]) ├──────────┤ X ├────┤ X ├────────┤ X ├────»\n",
              "«     └───────────┘└───────────┘          └───┘    └───┘        └───┘    »\n",
              "«                                              ┌───────────┐┌───────────┐»\n",
              "«q_0: ───────────────────■────────■─────────■──┤ Ry(θ[32]) ├┤ Rz(θ[36]) ├»\n",
              "«     ┌───────────┐    ┌─┴─┐      │         │  └───────────┘├───────────┤»\n",
              "«q_1: ┤ Rz(θ[29]) ├────┤ X ├──────┼────■────┼────────■──────┤ Ry(θ[33]) ├»\n",
              "«     ├───────────┤┌───┴───┴───┐┌─┴─┐┌─┴─┐  │        │      └───────────┘»\n",
              "«q_2: ┤ Ry(θ[26]) ├┤ Rz(θ[30]) ├┤ X ├┤ X ├──┼────────┼────────────■──────»\n",
              "«     ├───────────┤├───────────┤└───┘└───┘┌─┴─┐    ┌─┴─┐        ┌─┴─┐    »\n",
              "«q_3: ┤ Ry(θ[27]) ├┤ Rz(θ[31]) ├──────────┤ X ├────┤ X ├────────┤ X ├────»\n",
              "«     └───────────┘└───────────┘          └───┘    └───┘        └───┘    »\n",
              "«                               \n",
              "«q_0: ──────────────────────────\n",
              "«     ┌───────────┐             \n",
              "«q_1: ┤ Rz(θ[37]) ├─────────────\n",
              "«     ├───────────┤┌───────────┐\n",
              "«q_2: ┤ Ry(θ[34]) ├┤ Rz(θ[38]) ├\n",
              "«     ├───────────┤├───────────┤\n",
              "«q_3: ┤ Ry(θ[35]) ├┤ Rz(θ[39]) ├\n",
              "«     └───────────┘└───────────┘</pre>"
            ]
          },
          "metadata": {},
          "execution_count": 69
        }
      ]
    },
    {
      "cell_type": "markdown",
      "source": [
        "Finalmente, combinamos nuestro Feature Map y nuestro Ansatz para tener el circuito completo."
      ],
      "metadata": {
        "id": "4zbNW8x2rFT9"
      }
    },
    {
      "cell_type": "code",
      "source": [
        "combined_circuit = QuantumCircuit(features)\n",
        "combined_circuit.append(feature_map, range(features))\n",
        "combined_circuit.append(circuit, range(features))\n",
        "combined_circuit.decompose().draw()"
      ],
      "metadata": {
        "colab": {
          "base_uri": "https://localhost:8080/",
          "height": 314
        },
        "id": "6yT-7d7aeMT5",
        "outputId": "68f6f8fc-df25-4d25-8f8e-c8e12571b017"
      },
      "execution_count": 70,
      "outputs": [
        {
          "output_type": "execute_result",
          "data": {
            "text/plain": [
              "     ┌────────────────────────────────────┐»\n",
              "q_0: ┤0                                   ├»\n",
              "     │                                    │»\n",
              "q_1: ┤1                                   ├»\n",
              "     │  ZZFeatureMap(x[0],x[1],x[2],x[3]) │»\n",
              "q_2: ┤2                                   ├»\n",
              "     │                                    │»\n",
              "q_3: ┤3                                   ├»\n",
              "     └────────────────────────────────────┘»\n",
              "«     ┌──────────────────────────────────────────────────────────────────────────────────────────────────────────────────────────────────────────────────────────────────────────────────────────────────────────────────────────────────────────────────────┐\n",
              "«q_0: ┤0                                                                                                                                                                                                                                                     ├\n",
              "«     │                                                                                                                                                                                                                                                      │\n",
              "«q_1: ┤1                                                                                                                                                                                                                                                     ├\n",
              "«     │  EfficientSU2(θ[0],θ[1],θ[2],θ[3],θ[4],θ[5],θ[6],θ[7],θ[8],θ[9],θ[10],θ[11],θ[12],θ[13],θ[14],θ[15],θ[16],θ[17],θ[18],θ[19],θ[20],θ[21],θ[22],θ[23],θ[24],θ[25],θ[26],θ[27],θ[28],θ[29],θ[30],θ[31],θ[32],θ[33],θ[34],θ[35],θ[36],θ[37],θ[38],θ[39]) │\n",
              "«q_2: ┤2                                                                                                                                                                                                                                                     ├\n",
              "«     │                                                                                                                                                                                                                                                      │\n",
              "«q_3: ┤3                                                                                                                                                                                                                                                     ├\n",
              "«     └──────────────────────────────────────────────────────────────────────────────────────────────────────────────────────────────────────────────────────────────────────────────────────────────────────────────────────────────────────────────────────┘"
            ],
            "text/html": [
              "<pre style=\"word-wrap: normal;white-space: pre;background: #fff0;line-height: 1.1;font-family: &quot;Courier New&quot;,Courier,monospace\">     ┌────────────────────────────────────┐»\n",
              "q_0: ┤0                                   ├»\n",
              "     │                                    │»\n",
              "q_1: ┤1                                   ├»\n",
              "     │  ZZFeatureMap(x[0],x[1],x[2],x[3]) │»\n",
              "q_2: ┤2                                   ├»\n",
              "     │                                    │»\n",
              "q_3: ┤3                                   ├»\n",
              "     └────────────────────────────────────┘»\n",
              "«     ┌──────────────────────────────────────────────────────────────────────────────────────────────────────────────────────────────────────────────────────────────────────────────────────────────────────────────────────────────────────────────────────┐\n",
              "«q_0: ┤0                                                                                                                                                                                                                                                     ├\n",
              "«     │                                                                                                                                                                                                                                                      │\n",
              "«q_1: ┤1                                                                                                                                                                                                                                                     ├\n",
              "«     │  EfficientSU2(θ[0],θ[1],θ[2],θ[3],θ[4],θ[5],θ[6],θ[7],θ[8],θ[9],θ[10],θ[11],θ[12],θ[13],θ[14],θ[15],θ[16],θ[17],θ[18],θ[19],θ[20],θ[21],θ[22],θ[23],θ[24],θ[25],θ[26],θ[27],θ[28],θ[29],θ[30],θ[31],θ[32],θ[33],θ[34],θ[35],θ[36],θ[37],θ[38],θ[39]) │\n",
              "«q_2: ┤2                                                                                                                                                                                                                                                     ├\n",
              "«     │                                                                                                                                                                                                                                                      │\n",
              "«q_3: ┤3                                                                                                                                                                                                                                                     ├\n",
              "«     └──────────────────────────────────────────────────────────────────────────────────────────────────────────────────────────────────────────────────────────────────────────────────────────────────────────────────────────────────────────────────────┘</pre>"
            ]
          },
          "metadata": {},
          "execution_count": 70
        }
      ]
    },
    {
      "cell_type": "markdown",
      "source": [
        "Posteriormente definimos el input como un ParameterVector de 4 valores. Realizamos lo mismo para los pesos pero en este caso 40 ya que son los pesos entrenables de nuestro ansatz."
      ],
      "metadata": {
        "id": "ARO3LqmOrPpp"
      }
    },
    {
      "cell_type": "code",
      "source": [
        "# construct QNN with the QNNCircuit's default ZZFeatureMap feature map and RealAmplitudes ansatz.\n",
        "inputsc = ParameterVector(\"input\", 4)\n",
        "weightsc = ParameterVector(\"weight\", 40)\n",
        "print(f\"input parameters: {[str(item) for item in inputsc.params]}\")\n",
        "print(f\"weight parameters: {[str(item) for item in weightsc.params]}\")"
      ],
      "metadata": {
        "colab": {
          "base_uri": "https://localhost:8080/"
        },
        "id": "AUxcf_JDfHWM",
        "outputId": "2126d928-14f5-47d9-dcd0-d6daf4a60b29"
      },
      "execution_count": 71,
      "outputs": [
        {
          "output_type": "stream",
          "name": "stdout",
          "text": [
            "input parameters: ['input[0]', 'input[1]', 'input[2]', 'input[3]']\n",
            "weight parameters: ['weight[0]', 'weight[1]', 'weight[2]', 'weight[3]', 'weight[4]', 'weight[5]', 'weight[6]', 'weight[7]', 'weight[8]', 'weight[9]', 'weight[10]', 'weight[11]', 'weight[12]', 'weight[13]', 'weight[14]', 'weight[15]', 'weight[16]', 'weight[17]', 'weight[18]', 'weight[19]', 'weight[20]', 'weight[21]', 'weight[22]', 'weight[23]', 'weight[24]', 'weight[25]', 'weight[26]', 'weight[27]', 'weight[28]', 'weight[29]', 'weight[30]', 'weight[31]', 'weight[32]', 'weight[33]', 'weight[34]', 'weight[35]', 'weight[36]', 'weight[37]', 'weight[38]', 'weight[39]']\n"
          ]
        }
      ]
    },
    {
      "cell_type": "markdown",
      "source": [
        "###Definición observables y EstimatorQNN\n",
        "Primero, definimos el observable. Este define en que eje se medirán los qubits para obtener el resultado. El observable será del tipo PauliSumOp.  \n",
        "Posteriormente, definimos el EstimatorQNN, en este introducimos nuestro circuito de mapeo, el ParameterVector de inputs y pesos y el observable."
      ],
      "metadata": {
        "id": "bxidWhLFnGVv"
      }
    },
    {
      "cell_type": "code",
      "source": [
        "observable1 = PauliSumOp.from_list([(\"Z\" * num_qubits, 1)])\n",
        "print(observable1)\n",
        "estimator_qnn = EstimatorQNN(circuit=combined_circuit, input_params=inputsc, weight_params=weightsc, observables=observable1)"
      ],
      "metadata": {
        "id": "SNp18_lqMTd9",
        "colab": {
          "base_uri": "https://localhost:8080/"
        },
        "outputId": "60b8e103-f9c9-4426-9902-14de98252485"
      },
      "execution_count": 72,
      "outputs": [
        {
          "output_type": "stream",
          "name": "stdout",
          "text": [
            "1.0 * ZZZZ\n"
          ]
        }
      ]
    },
    {
      "cell_type": "markdown",
      "source": [
        "####Comprobación\n",
        "Ahora comprobamos que funciona el estimador quántico nn. Para ello cogemos la primera línea del dataset y realizamos un forward con pesos aleatorios. Se observa que se obtienen un valor o output de la QNN por lo que funciona correctamente."
      ],
      "metadata": {
        "id": "qbHzyNSTnySf"
      }
    },
    {
      "cell_type": "code",
      "source": [
        "firstrow = X_train[0]\n",
        "estimator_qnn.forward(firstrow, algorithm_globals.random.random(estimator_qnn.num_weights))"
      ],
      "metadata": {
        "colab": {
          "base_uri": "https://localhost:8080/"
        },
        "id": "aoczqE2AMY0n",
        "outputId": "a9586996-c93d-4983-ceb9-5482b47ed523"
      },
      "execution_count": 73,
      "outputs": [
        {
          "output_type": "execute_result",
          "data": {
            "text/plain": [
              "array([[0.0052135]])"
            ]
          },
          "metadata": {},
          "execution_count": 73
        }
      ]
    },
    {
      "cell_type": "markdown",
      "source": [
        "###Función evaluación entrenamiento\n",
        "Definimos una función para observar la evolución del entrenamiento de nuestra QNN. Esta función ha sido obtenida de un [tutorial de Qiskit](https://qiskit.org/ecosystem/machine-learning/tutorials/02_neural_network_classifier_and_regressor.html)"
      ],
      "metadata": {
        "id": "39oYjAQ7oWBZ"
      }
    },
    {
      "cell_type": "code",
      "source": [
        "# callback function that draws a live plot when the .fit() method is called\n",
        "def callback_graph(weights, obj_func_eval):\n",
        "    clear_output(wait=True)\n",
        "    objective_func_vals.append(obj_func_eval)\n",
        "    plt.title(\"Objective function value against iteration\")\n",
        "    plt.xlabel(\"Iteration\")\n",
        "    plt.ylabel(\"Objective function value\")\n",
        "    plt.plot(range(len(objective_func_vals)), objective_func_vals)\n",
        "    plt.show()"
      ],
      "metadata": {
        "id": "_-qKUhhVMcQ7"
      },
      "execution_count": 74,
      "outputs": []
    },
    {
      "cell_type": "markdown",
      "source": [
        "###Definición Clasificador por redes neuronales cuánticas\n",
        "En este paso se define el clasificador QNN. Para ello se utiliza la función NeuralNetworkClassifier a la que se le pasa el estimato_qnn definido anteriormente, el optimizador COBYLA (estimador parecido a optimizador clásico) con un máximo de 100 iters y la función de evaluación del proceso de entrenamiento."
      ],
      "metadata": {
        "id": "xKBmnLa5orEB"
      }
    },
    {
      "cell_type": "code",
      "source": [
        "# construct neural network classifier\n",
        "estimator_classifier = NeuralNetworkClassifier(\n",
        "    estimator_qnn, optimizer=COBYLA(maxiter=300, tol = 0.001), callback=callback_graph\n",
        ")"
      ],
      "metadata": {
        "id": "6sYsqmHzM7fn"
      },
      "execution_count": 105,
      "outputs": []
    },
    {
      "cell_type": "markdown",
      "source": [
        "###Entrenamiento y Score\n",
        "Por último, entrenamos el clasificador con el método .fit() pasándole los datos de entrenamiento. Además, vemos el score con los datos de test."
      ],
      "metadata": {
        "id": "HvoqVaP0pT5q"
      }
    },
    {
      "cell_type": "code",
      "source": [
        "# create empty array for callback to store evaluations of the objective function\n",
        "objective_func_vals = []\n",
        "plt.rcParams[\"figure.figsize\"] = (12, 6)\n",
        "\n",
        "# fit classifier to data\n",
        "estimator_classifier.fit(X_train_c, y_train)\n",
        "\n",
        "# return to default figsize\n",
        "plt.rcParams[\"figure.figsize\"] = (6, 4)"
      ],
      "metadata": {
        "colab": {
          "base_uri": "https://localhost:8080/",
          "height": 564
        },
        "id": "Bk7rXgUeNH8B",
        "outputId": "87027f3a-fc1a-4709-b689-2dbfcb2adec1"
      },
      "execution_count": 106,
      "outputs": [
        {
          "output_type": "display_data",
          "data": {
            "text/plain": [
              "<Figure size 1200x600 with 1 Axes>"
            ],
            "image/png": "[encoded data removed]"
          },
          "metadata": {}
        }
      ]
    },
    {
      "cell_type": "code",
      "source": [
        "print(f\"Training Accuracy: {round(estimator_classifier.score(X_train_c, y_train)*100,3)}%\")\n",
        "print(f\"Test Accuracy: {round(estimator_classifier.score(X_test_c, y_test)*100,3)}%\")"
      ],
      "metadata": {
        "colab": {
          "base_uri": "https://localhost:8080/"
        },
        "id": "26fWLTQ9vCD6",
        "outputId": "d872fb48-5a60-4f5e-9c93-402f1a9a95e4"
      },
      "execution_count": 107,
      "outputs": [
        {
          "output_type": "stream",
          "name": "stdout",
          "text": [
            "Training Accuracy: 95.714%\n",
            "Test Accuracy: 83.333%\n"
          ]
        }
      ]
    },
    {
      "cell_type": "markdown",
      "source": [
        "Se puede observar que se obtiene alrededor de 100% de precisión  para los datos de train y alrededor de 85% para los de test."
      ],
      "metadata": {
        "id": "CO8mOG9ur7Qj"
      }
    },
    {
      "cell_type": "markdown",
      "source": [
        "##CNN\n"
      ],
      "metadata": {
        "id": "0xmROxSktCUL"
      }
    },
    {
      "cell_type": "markdown",
      "source": [
        "###Construcción NN Clásica\n"
      ],
      "metadata": {
        "id": "amweG9HetmKP"
      }
    },
    {
      "cell_type": "markdown",
      "source": [
        "####Definición Arquitectura NN\n",
        "Se define una arquitectura NN para clasificación utilizando la biblioteca PyTorch. La clase \"NeuralNetworkClassificationModel\" recibe \"nn.Module\" y utiliza tres capas lineales cuya función de activación es la función ReLU. La primera capa es la capa de entrada, que tiene la dimensión del espacio de entrada (4) y 128 neuronas, seguida de una capa oculta con 128 a 64 neuronas y, finalmente, la capa de salida con 64 neuronas a la dimensión de salida (2). La función \"forward\" define cómo se propaga la entrada a través de la red, aplicando la función de activación ReLU después de cada capa, excepto la capa de salida."
      ],
      "metadata": {
        "id": "8Cu9xZ2zNtyX"
      }
    },
    {
      "cell_type": "code",
      "source": [
        "\n",
        "class NeuralNetworkClassificationModel(nn.Module):\n",
        "    def __init__(self,input_dim,output_dim):\n",
        "        super(NeuralNetworkClassificationModel,self).__init__()\n",
        "        self.input_layer    = nn.Linear(input_dim,128)\n",
        "        self.hidden_layer1  = nn.Linear(128,64)\n",
        "        self.output_layer   = nn.Linear(64,output_dim)\n",
        "        self.relu = nn.ReLU()\n",
        "\n",
        "\n",
        "    def forward(self,x):\n",
        "        out =  self.relu(self.input_layer(x))\n",
        "        out =  self.relu(self.hidden_layer1(out))\n",
        "        out =  self.output_layer(out)\n",
        "        return out\n",
        "\n",
        "input_dim  = 4\n",
        "output_dim = 2\n",
        "model = NeuralNetworkClassificationModel(input_dim, output_dim)"
      ],
      "metadata": {
        "id": "XIXP4oPWtBrQ"
      },
      "execution_count": 78,
      "outputs": []
    },
    {
      "cell_type": "markdown",
      "source": [
        "####Definición parámetros\n",
        "Establecemos los parámetros de la red neuronal:\n",
        "\n",
        "1. La tasa de aprendizaje (`learning_rate`) se establece en 0.008. Controla el tamaño de los pasos que se realizan durante la optimización del modelo.\n",
        "\n",
        "2. Se define el criterio de pérdida como `nn.CrossEntropyLoss()`. Esta función calcula la pérdida de entropía cruzada entre las predicciones del modelo y las etiquetas verdaderas, comúnmente utilizado en problemas de clasificación.\n",
        "\n",
        "3. Se selecciona el optimizador `torch.optim.Adam`, variante del algoritmo de descenso de gradiente estocástico. Este ajusta automáticamente la tasa de aprendizaje para cada parámetro en función de sus gradientes. Se le pasan los parámetros del modelo y la tasa de aprendizaje."
      ],
      "metadata": {
        "id": "Lqy5z6e0JCfH"
      }
    },
    {
      "cell_type": "code",
      "source": [
        "learning_rate = 0.008\n",
        "criterion = nn.CrossEntropyLoss()\n",
        "optimizer = torch.optim.Adam(model.parameters(),lr=learning_rate)"
      ],
      "metadata": {
        "id": "zyaFiC2Ht16i"
      },
      "execution_count": 79,
      "outputs": []
    },
    {
      "cell_type": "markdown",
      "source": [
        "###Entrenamiento\n"
      ],
      "metadata": {
        "id": "kF9sBuObJlaJ"
      }
    },
    {
      "cell_type": "markdown",
      "source": [
        "####Función de entrenamiento\n",
        "Creamos una función llamada `train_network`. Esta se encarga de entrenar la NN. La función recibe el modelo, el optimizador, el criterio de pérdida, los datos de entrenamiento y prueba, las epochs y las listas para almacenar variables (las pérdidas de entrenamiento y prueba).  \n",
        "En esta función:\n",
        "1. Eliminamos los gradientes acumulados de la iteración anterior con `optimizer.zero_grad()`.\n",
        "2. Obtenemos el resultado del forward propagation del modelo en los datos de entrenamiento con `model(X_train)` y se almacena el resultado en `output_train`.\n",
        "3. Calculamos la pérdida de entrenamiento `criterion(output_train, y_train)`.\n",
        "4. Realizamos backward propagation para calcular los gradientes de la pérdida con respecto a los parámetros usando `loss_train.backward()`.\n",
        "5. Actualizamos los parámetros de la NN con `optimizer.step()`.\n",
        "6. Evaluamos los datos test con `model(X_test)` y se calculamos la pérdida de estos.\n",
        "7. Se almacenan el loss de train y test.\n",
        "8. Cada 50 epochs, imprimimos información sobre la época actual y las pérdida."
      ],
      "metadata": {
        "id": "MhmwizzBOSbq"
      }
    },
    {
      "cell_type": "code",
      "source": [
        "def train_network(model,optimizer,criterion,X_train,y_train,X_test,y_test,num_epochs,train_losses,test_losses):\n",
        "    for epoch in range(num_epochs):\n",
        "        #clear out the gradients from the last step loss.backward()\n",
        "        optimizer.zero_grad()\n",
        "\n",
        "        #forward feed\n",
        "        output_train = model(X_train)\n",
        "\n",
        "        #calculate the loss\n",
        "        loss_train = criterion(output_train, y_train)\n",
        "\n",
        "\n",
        "\n",
        "        #backward propagation: calculate gradients\n",
        "        loss_train.backward()\n",
        "\n",
        "        #update the weights\n",
        "        optimizer.step()\n",
        "\n",
        "\n",
        "        output_test = model(X_test)\n",
        "        loss_test = criterion(output_test,y_test)\n",
        "\n",
        "        train_losses[epoch] = loss_train.item()\n",
        "        test_losses[epoch] = loss_test.item()\n",
        "\n",
        "        if (epoch + 1) % 50 == 0:\n",
        "            print(f\"Epoch {epoch+1}/{num_epochs}, Train Loss: {loss_train.item():.4f}, Test Loss: {loss_test.item():.4f}\")"
      ],
      "metadata": {
        "id": "u1S1yCh1t8YT"
      },
      "execution_count": 80,
      "outputs": []
    },
    {
      "cell_type": "markdown",
      "source": [
        "####Definición variables y datos\n",
        "Posteriormente, definimos el número de épocas (20). Además, creamos dos arrays de numpy (`train_losses` y `test_losses`) para almacenar las pérdidas de entrenamiento y prueba en cada época. Por esa lógica, los arrays tienen la misma longitud que el número de epochs. También, convertimos los datos\n",
        "(X_train, X_test, y_train, y_test) a tensores float de PyTorch (`torch.FloatTensor`) y las etiquetas (y_train y y_test) a tensores long (`torch.LongTensor`)."
      ],
      "metadata": {
        "id": "iY30VYtKK_NO"
      }
    },
    {
      "cell_type": "code",
      "source": [
        "num_epochs = 20\n",
        "train_losses = np.zeros(num_epochs)\n",
        "test_losses  = np.zeros(num_epochs)\n",
        "\n",
        "X_train_c = torch.FloatTensor(X_train)\n",
        "X_test_c = torch.FloatTensor(X_test)\n",
        "y_train_c = torch.LongTensor(y_train_x)\n",
        "y_test_c = torch.LongTensor(y_test_x)"
      ],
      "metadata": {
        "id": "GkfZp-QZt_qR"
      },
      "execution_count": 81,
      "outputs": []
    },
    {
      "cell_type": "markdown",
      "source": [
        "####Entrenamiento del modelo (Loss Graphic)\n",
        "Ahora hacemos uso de la función `train_network` con las variables definidas anteriormente obteniendo así los arrays de pérdidas de test y train. Estos los graficamos para comparar su evolución a lo largo de las epochs. Esto nos sirve para ver si la NN está convergiendo y si existe sobreajuste."
      ],
      "metadata": {
        "id": "CBIaz8ayLnJ9"
      }
    },
    {
      "cell_type": "code",
      "source": [
        "train_network(model,optimizer,criterion,X_train_c,y_train_c,X_test_c,y_test_c,num_epochs,train_losses,test_losses)\n",
        "plt.figure(figsize=(10,10))\n",
        "plt.plot(train_losses, label='train loss')\n",
        "plt.plot(test_losses, label='test loss')\n",
        "plt.legend()\n",
        "plt.show()"
      ],
      "metadata": {
        "colab": {
          "base_uri": "https://localhost:8080/",
          "height": 830
        },
        "id": "LJZosyVRuChR",
        "outputId": "f40f65f9-182b-411d-eb3f-c0a927811f11"
      },
      "execution_count": 82,
      "outputs": [
        {
          "output_type": "display_data",
          "data": {
            "text/plain": [
              "<Figure size 1000x1000 with 1 Axes>"
            ],
            "image/png": "[encoded data removed]"
          },
          "metadata": {}
        }
      ]
    },
    {
      "cell_type": "markdown",
      "source": [
        "###Precisión del modelo\n",
        "Ahora, definimos una función `get_accuracy_multiclass` para calcular la precisión de la CNN. La función obtiene: `pred_arr` (predicciones del modelo) y `original_arr` (labels verdaderas). Así podremos evaluar el rendimiento de nuestro modelo de clasificación."
      ],
      "metadata": {
        "id": "wjCSmSYKMJcu"
      }
    },
    {
      "cell_type": "code",
      "source": [
        "def get_accuracy_multiclass(pred_arr,original_arr):\n",
        "    if len(pred_arr)!=len(original_arr):\n",
        "        return False\n",
        "    pred_arr = pred_arr.numpy()\n",
        "    original_arr = original_arr.numpy()\n",
        "    final_pred= []\n",
        "    # we will get something like this in the pred_arr [32.1680,12.9350,-58.4877]\n",
        "    # so will be taking the index of that argument which has the highest value here 32.1680 which corresponds to 0th index\n",
        "    for i in range(len(pred_arr)):\n",
        "        final_pred.append(np.argmax(pred_arr[i]))\n",
        "    final_pred = np.array(final_pred)\n",
        "    count = 0\n",
        "    #here we are doing a simple comparison between the predicted_arr and the original_arr to get the final accuracy\n",
        "    for i in range(len(original_arr)):\n",
        "        if final_pred[i] == original_arr[i]:\n",
        "            count+=1\n",
        "    return count/len(final_pred)"
      ],
      "metadata": {
        "id": "_8T5lsqRuRZ5"
      },
      "execution_count": 83,
      "outputs": []
    },
    {
      "cell_type": "markdown",
      "source": [
        "Finalmente, obtenemos la precisión para los datos de test y train."
      ],
      "metadata": {
        "id": "bLE-DTUkMn9E"
      }
    },
    {
      "cell_type": "code",
      "source": [
        "predictions_train = []\n",
        "predictions_test =  []\n",
        "with torch.no_grad():\n",
        "    predictions_train = model(X_train_c)\n",
        "    predictions_test = model(X_test_c)\n",
        "\n",
        "train_acc = get_accuracy_multiclass(predictions_train,y_train_c)\n",
        "test_acc  = get_accuracy_multiclass(predictions_test,y_test_c)\n",
        "\n",
        "print(f\"Training Accuracy: {round(train_acc*100,3)}\")\n",
        "print(f\"Test Accuracy: {round(test_acc*100,3)}\")"
      ],
      "metadata": {
        "colab": {
          "base_uri": "https://localhost:8080/"
        },
        "id": "mdSHLwXtuT-d",
        "outputId": "eb12c2a6-6fb8-4bfc-ffe3-95eeaafe18fc"
      },
      "execution_count": 84,
      "outputs": [
        {
          "output_type": "stream",
          "name": "stdout",
          "text": [
            "Training Accuracy: 100.0\n",
            "Test Accuracy: 100.0\n"
          ]
        }
      ]
    },
    {
      "cell_type": "markdown",
      "source": [
        "Observamos que para ambos la precisión es del 100% por lo que podríamos decir que el modelo es capaz de diferenciar en el 100% de los casos entre los dos tipos de flores."
      ],
      "metadata": {
        "id": "QTSeMUjHMs4s"
      }
    },
    {
      "cell_type": "markdown",
      "source": [
        "#Integración de modelos (*Torch Connector*)"
      ],
      "metadata": {
        "id": "6zRsKCEWRULW"
      }
    },
    {
      "cell_type": "markdown",
      "source": [
        "Finalmente, realizamos la integración de QNNs y NNs con TorchConnector.  \n",
        "Para ello primero definimos como será nuestra QNN. Esta tendrá la misma estructura que antes pero tendrá dos qubits y recibirá dos inputs"
      ],
      "metadata": {
        "id": "_AEwzP_HW-vK"
      }
    },
    {
      "cell_type": "code",
      "source": [
        "def create_qnn():\n",
        "    feature_map = ZZFeatureMap(2)\n",
        "    ansatz = EfficientSU2(num_qubits = 2, reps = 4, entanglement = \"full\")\n",
        "    qc = QuantumCircuit(2)\n",
        "    qc.compose(feature_map, inplace=True)\n",
        "    qc.compose(ansatz, inplace=True)\n",
        "\n",
        "    # REMEMBER TO SET input_gradients=True FOR ENABLING HYBRID GRADIENT BACKPROP\n",
        "    qnn = EstimatorQNN(\n",
        "        circuit=qc,\n",
        "        input_params=feature_map.parameters,\n",
        "        weight_params=ansatz.parameters,\n",
        "        input_gradients=True,\n",
        "    )\n",
        "    return qnn\n",
        "qnn = create_qnn()"
      ],
      "metadata": {
        "id": "6AHFtuboICHb"
      },
      "execution_count": 99,
      "outputs": []
    },
    {
      "cell_type": "markdown",
      "source": [
        "Posteriormente, definimos nuestro modelo híbrido. Este tiene la siguiente estructura:  \n",
        "El método `__init__` define la arquitectura del modelo, que es la siguiente:\n",
        "1. `input_layer`: Capa de entrada con una transformación lineal que mapea las entradas de 4 dimensiones a 128 dimensiones.\n",
        "2. `hidden_layer1`: Capa oculta con una transformación lineal que mapea las entradas de 128 dimensiones a 64 dimensiones.\n",
        "3. `output_layer`: Capa de salida con una transformación lineal que mapea las entradas de 64 dimensiones a 2 dimensiones.\n",
        "4. `relu`: Función de activación ReLU.\n",
        "5. `qnn`: Conector que enlaza la red neuronal clásica con la red neuronal cuántica.\n",
        "6. `fc3`: Capa lineal final que mapea la salida 1-dimensional del QNN a una salida 1-dimensional.\n",
        "\n",
        "El método `forward` define cómo se procesan las entradas a través de la red:\n",
        "1. La entrada `x` se pasa a través de la capa de entrada, seguida de la función de activación ReLU.\n",
        "2. A continuación, se pasa a través de la capa oculta y otra vez se aplica la función de activación ReLU.\n",
        "3. Luego, se pasa a través de la capa de salida.\n",
        "4. La salida de la red neuronal clásica se alimenta a la red neuronal cuántica (`self.qnn(x)`).\n",
        "5. La salida del QNN se pasa a través de la capa lineal final `fc3`.\n",
        "6. Finalmente, se concatena la salida `x` con `1 - x` a lo largo de la última dimensión, devolviendo un tensor de dos dimensiones."
      ],
      "metadata": {
        "id": "VXCLlDKssm8N"
      }
    },
    {
      "cell_type": "code",
      "source": [
        "class HybridModel(torch.nn.Module):\n",
        "    def __init__(self, qnn):\n",
        "        super().__init__()\n",
        "        self.input_layer = nn.Linear(4, 128)\n",
        "        self.hidden_layer1 = nn.Linear(128, 64)\n",
        "        self.output_layer = nn.Linear(64, 2)\n",
        "        self.relu = nn.ReLU()\n",
        "        self.qnn = TorchConnector(qnn)\n",
        "        self.fc3 = Linear(1, 1)  # 1-dimensional output from QNN\n",
        "\n",
        "\n",
        "    def forward(self, x):\n",
        "        x = self.relu(self.input_layer(x))\n",
        "        x = self.relu(self.hidden_layer1(x))\n",
        "        x = self.output_layer(x)\n",
        "        x = self.qnn(x)  # Feed the output of the classical neural network to the QNN\n",
        "        x = self.fc3(x)\n",
        "        return cat((x, 1 - x), -1)\n",
        "hybrid_model = HybridModel(qnn)"
      ],
      "metadata": {
        "id": "Pozr_pAQXnr5"
      },
      "execution_count": 100,
      "outputs": []
    },
    {
      "cell_type": "markdown",
      "source": [
        "Ahora, definimos el optimizador (en este caso Adam, con un lr de 0.001) y la función de pérdida (en este caso NLLLoss, utilizada para problemas de clasificación). Posteriormente, entrenamos nuestro modelo, graficando por cada época la pérdida."
      ],
      "metadata": {
        "id": "fcGsXGABtOSu"
      }
    },
    {
      "cell_type": "code",
      "source": [
        "# Define tus datos de entrenamiento y objetivo (X_train, y_train)\n",
        "optimizer = Adam(hybrid_model.parameters(), lr=0.001)\n",
        "loss_func = torch.nn.NLLLoss()\n",
        "loss_list = []  # Store loss history\n",
        "\n",
        "num_epochs = 50\n",
        "hybrid_model.train()\n",
        "for epoch in range(num_epochs):\n",
        "    total_loss = []\n",
        "    optimizer.zero_grad(set_to_none=True)  # Initialize gradient\n",
        "    output = hybrid_model(X_train_c)  # Forward pass\n",
        "    loss = loss_func(output, y_train_c.long())  # Calculate loss\n",
        "    loss.backward()  # Backward pass\n",
        "    optimizer.step()  # Optimize weights\n",
        "    total_loss.append(loss.item())  # Store loss\n",
        "    loss_list.append(sum(total_loss) / len(total_loss))\n",
        "    print(\"Training [{:.0f}%]\\tLoss: {:.4f}\".format(100.0 * (epoch + 1) / num_epochs, loss_list[-1]))"
      ],
      "metadata": {
        "colab": {
          "base_uri": "https://localhost:8080/"
        },
        "id": "WDe0LtBM_dHM",
        "outputId": "133dfc25-01ca-4300-d4f4-f50bfd0d915d"
      },
      "execution_count": 101,
      "outputs": [
        {
          "output_type": "stream",
          "name": "stdout",
          "text": [
            "Training [2%]\tLoss: -0.4930\n",
            "Training [4%]\tLoss: -0.5260\n",
            "Training [6%]\tLoss: -0.5798\n",
            "Training [8%]\tLoss: -0.6407\n",
            "Training [10%]\tLoss: -0.6605\n",
            "Training [12%]\tLoss: -0.6572\n",
            "Training [14%]\tLoss: -0.6719\n",
            "Training [16%]\tLoss: -0.6846\n",
            "Training [18%]\tLoss: -0.6953\n",
            "Training [20%]\tLoss: -0.7082\n",
            "Training [22%]\tLoss: -0.7162\n",
            "Training [24%]\tLoss: -0.7163\n",
            "Training [26%]\tLoss: -0.7161\n",
            "Training [28%]\tLoss: -0.7205\n",
            "Training [30%]\tLoss: -0.7277\n",
            "Training [32%]\tLoss: -0.7348\n",
            "Training [34%]\tLoss: -0.7403\n",
            "Training [36%]\tLoss: -0.7444\n",
            "Training [38%]\tLoss: -0.7473\n",
            "Training [40%]\tLoss: -0.7498\n",
            "Training [42%]\tLoss: -0.7536\n",
            "Training [44%]\tLoss: -0.7597\n",
            "Training [46%]\tLoss: -0.7661\n",
            "Training [48%]\tLoss: -0.7709\n",
            "Training [50%]\tLoss: -0.7746\n",
            "Training [52%]\tLoss: -0.7784\n",
            "Training [54%]\tLoss: -0.7825\n",
            "Training [56%]\tLoss: -0.7867\n",
            "Training [58%]\tLoss: -0.7915\n",
            "Training [60%]\tLoss: -0.7966\n",
            "Training [62%]\tLoss: -0.8003\n",
            "Training [64%]\tLoss: -0.8033\n",
            "Training [66%]\tLoss: -0.8065\n",
            "Training [68%]\tLoss: -0.8097\n",
            "Training [70%]\tLoss: -0.8133\n",
            "Training [72%]\tLoss: -0.8175\n",
            "Training [74%]\tLoss: -0.8212\n",
            "Training [76%]\tLoss: -0.8249\n",
            "Training [78%]\tLoss: -0.8287\n",
            "Training [80%]\tLoss: -0.8324\n",
            "Training [82%]\tLoss: -0.8368\n",
            "Training [84%]\tLoss: -0.8411\n",
            "Training [86%]\tLoss: -0.8451\n",
            "Training [88%]\tLoss: -0.8490\n",
            "Training [90%]\tLoss: -0.8525\n",
            "Training [92%]\tLoss: -0.8563\n",
            "Training [94%]\tLoss: -0.8602\n",
            "Training [96%]\tLoss: -0.8641\n",
            "Training [98%]\tLoss: -0.8682\n",
            "Training [100%]\tLoss: -0.8720\n"
          ]
        }
      ]
    },
    {
      "cell_type": "markdown",
      "source": [
        "Tras el entrenamiento, graficamos la evolución de la pérdida para ver si el modelo llega a convergencia y un posible sobre entrenamiento."
      ],
      "metadata": {
        "id": "nerqfhlpxepT"
      }
    },
    {
      "cell_type": "code",
      "source": [
        "# Plot loss convergence\n",
        "plt.plot(loss_list)\n",
        "plt.title(\"Hybrid NN Training Convergence\")\n",
        "plt.xlabel(\"Training Iterations\")\n",
        "plt.ylabel(\"Neg. Log Likelihood Loss\")\n",
        "plt.show()"
      ],
      "metadata": {
        "colab": {
          "base_uri": "https://localhost:8080/",
          "height": 410
        },
        "id": "SXSNB1iVFWkU",
        "outputId": "38c03af5-8605-439b-b4a9-8846210d1d44"
      },
      "execution_count": 102,
      "outputs": [
        {
          "output_type": "display_data",
          "data": {
            "text/plain": [
              "<Figure size 600x400 with 1 Axes>"
            ],
            "image/png": "[encoded data removed]"
          },
          "metadata": {}
        }
      ]
    },
    {
      "cell_type": "markdown",
      "source": [
        "Guardamos el modelo y lo importamos en otro para su evaluación."
      ],
      "metadata": {
        "id": "tWmQHWlkxr3K"
      }
    },
    {
      "cell_type": "code",
      "source": [
        "torch.save(hybrid_model.state_dict(), \"hybrid_model.pt\")\n",
        "modeleval = HybridModel(qnn)\n",
        "modeleval.load_state_dict(torch.load(\"hybrid_model.pt\"))"
      ],
      "metadata": {
        "colab": {
          "base_uri": "https://localhost:8080/"
        },
        "id": "Nhp1X9SN23Ym",
        "outputId": "4a2d4645-fbac-487a-a444-036d80ed74d7"
      },
      "execution_count": 103,
      "outputs": [
        {
          "output_type": "execute_result",
          "data": {
            "text/plain": [
              "<All keys matched successfully>"
            ]
          },
          "metadata": {},
          "execution_count": 103
        }
      ]
    },
    {
      "cell_type": "markdown",
      "source": [
        "Finalmente, evaluamos el rendimiento (accuracy) de nuestro modelo."
      ],
      "metadata": {
        "id": "8dhW347Pxwc6"
      }
    },
    {
      "cell_type": "code",
      "source": [
        "modeleval.eval()  # set model to evaluation mode\n",
        "with no_grad():\n",
        "    target = y_train_c.long()\n",
        "    correct = 0\n",
        "    output = modeleval(X_train_c)\n",
        "    if len(output.shape) == 1:\n",
        "        output = output.reshape(1, *output.shape)\n",
        "\n",
        "    pred = output.argmax(dim=1, keepdim=True)\n",
        "    correct += pred.eq(target.view_as(pred)).sum().item()\n",
        "\n",
        "    loss = loss_func(output, target)\n",
        "\n",
        "    print(f\"Performance on train data:\\n\\tLoss: {loss:.4f}\\n\\tAccuracy: {correct / len(target) * 100:.1f}%\")\n",
        "\n",
        "with no_grad():\n",
        "    target = y_test_c.long()\n",
        "    correct = 0\n",
        "    output = modeleval(X_test_c)\n",
        "    if len(output.shape) == 1:\n",
        "        output = output.reshape(1, *output.shape)\n",
        "\n",
        "    pred = output.argmax(dim=1, keepdim=True)\n",
        "    correct += pred.eq(target.view_as(pred)).sum().item()\n",
        "\n",
        "    loss = loss_func(output, target)\n",
        "\n",
        "    print(f\"Performance on test data:\\n\\tLoss: {loss:.4f}\\n\\tAccuracy: {correct / len(target) * 100:.1f}%\")"
      ],
      "metadata": {
        "colab": {
          "base_uri": "https://localhost:8080/"
        },
        "id": "jdRrjHm1FzgQ",
        "outputId": "9f1db5fb-e0af-42fd-d395-e6c8b41367bc"
      },
      "execution_count": 104,
      "outputs": [
        {
          "output_type": "stream",
          "name": "stdout",
          "text": [
            "Performance on train data:\n",
            "\tLoss: -0.8759\n",
            "\tAccuracy: 100.0%\n",
            "Performance on test data:\n",
            "\tLoss: -0.8783\n",
            "\tAccuracy: 100.0%\n"
          ]
        }
      ]
    },
    {
      "cell_type": "markdown",
      "source": [
        "Se puede observar como con nuestro modelo híbrido también obtenemos un 100% de precisión tanto para train como para test. Sin embargo, el entrenamiento es mucho más lento por lo que en este caso no tendría sentido implementar un modelo híbrido. La solución óptima sería una red neuronal clásica."
      ],
      "metadata": {
        "id": "kY4v6OgIyaPa"
      }
    },
    {
      "cell_type": "markdown",
      "source": [
        "##Bibliografía\n",
        "\n",
        "\n",
        "*   Qiskit & Tutorials ([https://qiskit.org/ecosystem/machine-learning/tutorials/index.html](https://qiskit.org/ecosystem/machine-learning/tutorials/index.html))\n",
        "*   Kaggle Project ([https://www.kaggle.com/code/cocoloco33/iris-dataset-with-qnn-100-score](https://www.kaggle.com/code/cocoloco33/iris-dataset-with-qnn-100-score))\n",
        "*   UFV Canvas Documents\n"
      ],
      "metadata": {
        "id": "he1NdjmvyBRq"
      }
    }
  ]
}